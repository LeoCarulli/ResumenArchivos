{
 "cells": [
  {
   "cell_type": "markdown",
   "metadata": {},
   "source": [
    "## ¿Cómo hacer tu propio resumen de archivos PDF GRATIS usando Ollama?"
   ]
  },
  {
   "cell_type": "markdown",
   "metadata": {},
   "source": [
    "### *Paso 1: Descargamos las librerías necesarias en este notebook*"
   ]
  },
  {
   "cell_type": "code",
   "execution_count": 7,
   "metadata": {},
   "outputs": [
    {
     "name": "stdout",
     "output_type": "stream",
     "text": [
      "Requirement already satisfied: pdfplumber in c:\\users\\ryzen\\appdata\\local\\programs\\python\\python39\\lib\\site-packages (0.11.4)\n",
      "Requirement already satisfied: pdfminer.six==20231228 in c:\\users\\ryzen\\appdata\\local\\programs\\python\\python39\\lib\\site-packages (from pdfplumber) (20231228)\n",
      "Requirement already satisfied: Pillow>=9.1 in c:\\users\\ryzen\\appdata\\local\\programs\\python\\python39\\lib\\site-packages (from pdfplumber) (9.3.0)\n",
      "Requirement already satisfied: pypdfium2>=4.18.0 in c:\\users\\ryzen\\appdata\\local\\programs\\python\\python39\\lib\\site-packages (from pdfplumber) (4.30.0)\n",
      "Requirement already satisfied: charset-normalizer>=2.0.0 in c:\\users\\ryzen\\appdata\\local\\programs\\python\\python39\\lib\\site-packages (from pdfminer.six==20231228->pdfplumber) (2.0.12)\n",
      "Requirement already satisfied: cryptography>=36.0.0 in c:\\users\\ryzen\\appdata\\local\\programs\\python\\python39\\lib\\site-packages (from pdfminer.six==20231228->pdfplumber) (39.0.2)\n",
      "Requirement already satisfied: cffi>=1.12 in c:\\users\\ryzen\\appdata\\roaming\\python\\python39\\site-packages (from cryptography>=36.0.0->pdfminer.six==20231228->pdfplumber) (1.15.1)\n",
      "Requirement already satisfied: pycparser in c:\\users\\ryzen\\appdata\\roaming\\python\\python39\\site-packages (from cffi>=1.12->cryptography>=36.0.0->pdfminer.six==20231228->pdfplumber) (2.21)\n",
      "Note: you may need to restart the kernel to use updated packages.\n"
     ]
    }
   ],
   "source": [
    "%pip install pdfplumber"
   ]
  },
  {
   "cell_type": "markdown",
   "metadata": {},
   "source": [
    "### *Paso 2: Importamos las librerías necesarias*"
   ]
  },
  {
   "cell_type": "markdown",
   "metadata": {},
   "source": [
    "##### Librerías utilizadas\n",
    "- `pdfplumber`: Para leer y extraer texto de archivos PDF.\n",
    "- `subprocess`: Para ejecutar el modelo con los mismos comandos que desde la terminal, de forma simple.\n",
    "\n",
    "Nota: \"subprocess\" ya fue instalada por defecto ya que forma parte de la biblioteca estándar de python. Las librerías que no sean parte del estándar de python (como por ejemplo \"pdfplumber\"), deben ser instaladas mediante el uso de \"pip\"."
   ]
  },
  {
   "cell_type": "code",
   "execution_count": 6,
   "metadata": {},
   "outputs": [],
   "source": [
    "import pdfplumber\n",
    "import subprocess"
   ]
  },
  {
   "cell_type": "markdown",
   "metadata": {},
   "source": [
    "###  *Paso 3: Definimos la ruta del archivo PDF*"
   ]
  },
  {
   "cell_type": "code",
   "execution_count": 8,
   "metadata": {},
   "outputs": [],
   "source": [
    "ruta_archivo = 'data/gatoconbotas.pdf'"
   ]
  },
  {
   "cell_type": "markdown",
   "metadata": {},
   "source": [
    "### *Paso 3: Extraemos el texto del PDF*"
   ]
  },
  {
   "cell_type": "markdown",
   "metadata": {},
   "source": [
    "##### Extracción del texto del PDF\n",
    "Aquí vamos a abrir el archivo PDF y extraer el texto de todas las páginas. \n",
    "\n",
    "Usamos un bucle para ir acumulando el texto en una sola variable.\n",
    "\n",
    "- Primer paso - Abrir el PDF.\n",
    "- Segundo paso - Almacenar el texto del PDF en la variable \"texto_pdf\".\n",
    "- Tercer paso - Mostrar el PDF."
   ]
  },
  {
   "cell_type": "markdown",
   "metadata": {},
   "source": [
    "Primer paso - Abrir el PDF."
   ]
  },
  {
   "cell_type": "code",
   "execution_count": 9,
   "metadata": {},
   "outputs": [
    {
     "name": "stdout",
     "output_type": "stream",
     "text": [
      "Archivo PDF abierto exitosamente.\n"
     ]
    }
   ],
   "source": [
    "# Abrimos el archivo PDF en modo lectura binaria ('rb')\n",
    "with pdfplumber.open(ruta_archivo) as pdf:\n",
    "    # El archivo PDF ya está abierto y listo para ser leído\n",
    "    print(\"Archivo PDF abierto exitosamente.\")"
   ]
  },
  {
   "cell_type": "markdown",
   "metadata": {},
   "source": [
    "Segundo Paso - Almacenar el texto del PDF en la variable \"texto_pdf\""
   ]
  },
  {
   "cell_type": "code",
   "execution_count": 11,
   "metadata": {},
   "outputs": [],
   "source": [
    "with pdfplumber.open(ruta_archivo) as pdf:\n",
    "    # Creamos una cadena de texto vacía para almacenar el texto extraído\n",
    "    texto_pdf = \"\"\n",
    "    # Vamos agregando el texto de cada página a la cadena de texto inicialmente vacía\n",
    "    for pagina in pdf.pages:\n",
    "        texto_pdf += pagina.extract_text()    "
   ]
  },
  {
   "cell_type": "markdown",
   "metadata": {},
   "source": [
    "Tercer Paso - Mostrar primeros 500 caracteres del texto"
   ]
  },
  {
   "cell_type": "code",
   "execution_count": 14,
   "metadata": {},
   "outputs": [
    {
     "name": "stdout",
     "output_type": "stream",
     "text": [
      "Cuentos cortos\n",
      "El gato con botas\n",
      "Érase una vez un joven que era hijo de un molinero. El molinero acababa de\n",
      "morir, y solamente le dejó como herencia al chico un gato gris. El muchacho iba\n",
      "quejándose de su suerte: “mi padre no está, estoy solo y lo único que me ha\n",
      "dejado ha sido un gato”\n",
      "“Ya verás lo que puedo hacer por ti si me consigues un sombrero y unas botas”,\n",
      "le dijo el gato al muchacho un día harto de escuchar sus quejas. El chico,\n",
      "sorprendido, se apresuró y consiguió todo lo que el gato l\n"
     ]
    }
   ],
   "source": [
    "print(texto_pdf[:500])"
   ]
  },
  {
   "cell_type": "markdown",
   "metadata": {},
   "source": [
    "### *Paso 4: Preparamos el mensaje para generar el resumen*"
   ]
  },
  {
   "cell_type": "code",
   "execution_count": 15,
   "metadata": {},
   "outputs": [],
   "source": [
    "mensaje = f\"Por favor, haceme un resumen detallado en español latinoamericano:\\n\\n{texto_pdf}\""
   ]
  },
  {
   "cell_type": "markdown",
   "metadata": {},
   "source": [
    "Preparamos un mensaje (indicaciones) que le pasamos al modelo, que actualmente está configurado para generar detallado un resumen en español. Aquí podriamos variar lo que esperamos obtener como resultado final. Por ejemplo, podríamos indicarle más / menos detalle, y otras cuestiones.\n"
   ]
  },
  {
   "cell_type": "markdown",
   "metadata": {},
   "source": [
    "### *Paso 5: Ejecutamos el comando para generar el resumen con Ollama*"
   ]
  },
  {
   "cell_type": "code",
   "execution_count": 29,
   "metadata": {},
   "outputs": [],
   "source": [
    "resumen = subprocess.run(['ollama', 'run', 'phi3.5'], input=mensaje, text=True, capture_output=True, encoding='utf-8').stdout"
   ]
  },
  {
   "cell_type": "markdown",
   "metadata": {},
   "source": [
    "### *Paso 6: Mostramos el resumen generado*"
   ]
  },
  {
   "cell_type": "code",
   "execution_count": 30,
   "metadata": {},
   "outputs": [
    {
     "name": "stdout",
     "output_type": "stream",
     "text": [
      "¡Claro! Aquí te presento un resumen detallado en español latinoamericano del cuento clásico \"El gato con botas\":\n",
      "\n",
      "La historia comienza con un joven que es hijo de un molinero que ha fallecido y le deja solo como herencia un gato gris. El muchacho se queja de su situación, pero el gato le dice que puede hacer mucho por él si consigue un sombrero y unas botas.\n",
      "\n",
      "El chico logra obtener los objetos pedidos y el gato lo recompensa atrapando un gran conejo y envíandoselo al Rey con una trampa. El Rey se impresiona con la habilidad del gato y le pregunta sobre su amo, al que llama \"Marqués de Carabás\".\n",
      "\n",
      "Después de regresar con su dueño, el gato con botas le dice al muchacho que debe casarse con la hija del Rey. Aunque el chico está asombrado, el gato lo aconseja seguir sus instrucciones y hacer lo que él diga.\n",
      "\n",
      "El gato con botas ordena al muchacho meterse desnudo en el río y quedarse allí sin decir nada. Esto ocurre justo cuando el Rey da su paseo por el río y cruza el puente en su carroza. El gato grita desesperado que han robado a su amo y que se han llevado todas sus prendas.\n",
      "\n",
      "El Rey, alarmado, envía a sus asistentes a auxiliar al Marqués de Carabás. Le pone los ropajes más finos y lo invita al palacio. Allí, el monarca presenta a la princesa Florlinda al Marqués de Carabás y le pide que se case con ella.\n",
      "\n",
      "Finalmente, el gato con botas hace que su amo sea un príncipe gracias a su gran ingenio. Cuando el marqués se convierte en Rey, nombró al gato con botas chambelán del reino para tener alguien muy inteligente ayudándolo a gobernar de forma justa.\n",
      "\n",
      "Y eso es básicamente la historia!\n",
      "\n",
      "\n"
     ]
    }
   ],
   "source": [
    "print(resumen)"
   ]
  }
 ],
 "metadata": {
  "kernelspec": {
   "display_name": "Python 3",
   "language": "python",
   "name": "python3"
  },
  "language_info": {
   "codemirror_mode": {
    "name": "ipython",
    "version": 3
   },
   "file_extension": ".py",
   "mimetype": "text/x-python",
   "name": "python",
   "nbconvert_exporter": "python",
   "pygments_lexer": "ipython3",
   "version": "3.9.5"
  }
 },
 "nbformat": 4,
 "nbformat_minor": 2
}
